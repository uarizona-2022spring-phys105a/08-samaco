{
 "cells": [
  {
   "cell_type": "markdown",
   "id": "conscious-print",
   "metadata": {},
   "source": [
    "## PHYS 105A:  Introduction to Scientific Computing\n",
    "\n",
    "# Numerical Integrator\n",
    "\n",
    "In this assignment, we will see some of the limitations on numerical integrators, and find ways to improve them."
   ]
  },
  {
   "cell_type": "code",
   "execution_count": null,
   "id": "cordless-girlfriend",
   "metadata": {},
   "outputs": [],
   "source": [
    "# Step 1. Import Libraries\n",
    "\n",
    "import numpy as np\n",
    "from matplotlib import pyplot as plt"
   ]
  },
  {
   "cell_type": "code",
   "execution_count": null,
   "id": "faced-adapter",
   "metadata": {},
   "outputs": [],
   "source": [
    "# Step 2. Define standard numerical integrals\n",
    "#\n",
    "# There is nothing complicated that you need to do here.\n",
    "# Simply copy and paste the functions in the lecture note from last week.\n",
    "\n",
    "def trapezoidal(f, N=8, a=0, b=1):\n",
    "    ________\n",
    "\n",
    "def Simpson(f, N=8, a=0, b=1):\n",
    "    ________\n",
    "\n",
    "def Bode(f, N=8, a=0, b=1):\n",
    "    ________"
   ]
  },
  {
   "cell_type": "code",
   "execution_count": null,
   "id": "through-sense",
   "metadata": {},
   "outputs": [],
   "source": [
    "# Step 3. Define a function that breaks our integrators...\n",
    "#\n",
    "# Since we have worked on integrating pi for many times, let's define a quarter circle again!\n",
    "\n",
    "def h(x):\n",
    "    return np.sqrt(1 - x * x)\n",
    "\n",
    "X = np.linspace(0, 1, 5)\n",
    "Y = h(X)\n",
    "\n",
    "x = np.linspace(0, 1, 129) # define a fine grid for plotting\n",
    "plt.plot(x, h(x))\n",
    "plt.scatter(X, Y, color='r')\n",
    "plt.fill_between(X, h(X), color='r', alpha=0.33)\n",
    "plt.gca().set_aspect('equal')"
   ]
  },
  {
   "cell_type": "code",
   "execution_count": null,
   "id": "gothic-characterization",
   "metadata": {},
   "outputs": [],
   "source": [
    "# Step 4. Apply the integrators\n",
    "\n",
    "Ns = [8, 16, 32, 64, 128, 256, 512, 1024]\n",
    "\n",
    "err_t = [abs(trapezoidal(h, N) - np.pi/4) for N in Ns]\n",
    "err_S = [abs(Simpson(h, N)     - np.pi/4) for N in Ns]\n",
    "err_B = [abs(Bode(h, N)        - np.pi/4) for N in Ns]\n",
    "\n",
    "plt.loglog(Ns, err_t, '+--', color='r', label='trapezoidal')\n",
    "plt.loglog(Ns, err_S, 'o-.', color='g', label='Simpson')\n",
    "plt.loglog(Ns, err_B, 'x:',  color='b', label='Bode')\n",
    "plt.xlabel('Number of sampling points')\n",
    "plt.ylabel('Absolute errors')\n",
    "plt.legend()"
   ]
  },
  {
   "cell_type": "markdown",
   "id": "renewable-watson",
   "metadata": {},
   "source": [
    "What is the convergent rate?  Is this expected?  Please write down your answers below.\n",
    "\n",
    "`ANS`: ..."
   ]
  },
  {
   "cell_type": "code",
   "execution_count": null,
   "id": "dominant-separate",
   "metadata": {},
   "outputs": [],
   "source": [
    "# Step 5. Idea: use smaller steps as we apporach one.\n",
    "#\n",
    "# We don't have to rewrite the integrators from scratch.\n",
    "# We can reduce the functions we implemented above.\n",
    "# See trapezoidal_adaptive() as an example.\n",
    "\n",
    "# X are our collocation points. So far, we have worked\n",
    "# with uniformly distributed ones, but we can choose\n",
    "# another distribution, e.g., sinuisoidal. Have a look\n",
    "# at how the new points look much smoother.\n",
    "\n",
    "N=6\n",
    "X_unif = np.linspace(0, 1, N)\n",
    "X_sin = np.sin(np.pi/2 * np.arange(N+1)/N)\n",
    "plt.plot(X_unif, h(X_unif), marker=\"*\")\n",
    "plt.plot(X_sin, h(X_sin), marker=\"o\")\n",
    "plt.gca().set_aspect('equal')\n",
    "\n",
    "# We can implement this in our integrators\n",
    "\n",
    "def trapezoidal_adaptive(h, N):\n",
    "    X = np.sin(np.pi/2 * np.arange(N+1)/N)\n",
    "    S = 0\n",
    "    for i in range(N):\n",
    "        S += trapezoidal(h, N=1, a=X[i], b=X[i+1])\n",
    "    return S\n",
    "\n",
    "def Simpson_adaptive(h, N):\n",
    "    N = N//2\n",
    "    X = np.sin(np.pi/2 * np.arange(N+1)/N)\n",
    "    ______\n",
    "    \n",
    "def Bode_adaptive(h, N):\n",
    "    N = N//4\n",
    "    X = np.sin(np.pi/2 * np.arange(N+1)/N)\n",
    "    ______"
   ]
  },
  {
   "cell_type": "code",
   "execution_count": null,
   "id": "e27737b9-8fd7-4ed2-a738-ccd5504db60b",
   "metadata": {},
   "outputs": [],
   "source": [
    "# Step 6. Test the result\n",
    "\n",
    "Ns = [8, 16, 32, 64, 128, 256, 512, 1024]\n",
    "\n",
    "err_ta = [abs(trapezoidal_adaptive(h, N) - np.pi/4) for N in Ns]\n",
    "err_Sa = [abs(Simpson_adaptive(h, N)     - np.pi/4) for N in Ns]\n",
    "err_Ba = [abs(Bode_adaptive(h, N)        - np.pi/4) for N in Ns]\n",
    "\n",
    "plt.loglog(Ns, err_t,  '+--', color='r', label='trapezoidal')\n",
    "plt.loglog(Ns, err_S,  'o-.', color='g', label='Simpson')\n",
    "plt.loglog(Ns, err_B,  'x:',  color='b', label='Bode')\n",
    "plt.loglog(Ns, err_ta, '+-',  color='r', label='adaptive trapezoidal')\n",
    "plt.loglog(Ns, err_Sa, 'o-',  color='g', label='adaptive Simpson')\n",
    "plt.loglog(Ns, err_Ba, 'x-',  color='b', label='adaptive Bode')\n",
    "plt.xlabel('Number of sampling points')\n",
    "plt.ylabel('Absolute errors')\n",
    "plt.legend()"
   ]
  },
  {
   "cell_type": "markdown",
   "id": "artificial-computer",
   "metadata": {},
   "source": [
    "What is the convergent rate?  Is this expected?  Please write down your answers below.\n",
    "\n",
    "`ANS`: ..."
   ]
  },
  {
   "cell_type": "code",
   "execution_count": null,
   "id": "6ee10d71-6808-4ba9-8ce6-145904f21ecd",
   "metadata": {},
   "outputs": [],
   "source": [
    "# Step 7. Come up with some other idea to improve the convergent rate.\n",
    "#\n",
    "# One possibility, take advantage of the symmetry of the circle.\n",
    "# What if we integrate 1/8 of a circle instead?\n",
    "#\n",
    "# Please implement the integrations and make the convergence plots.\n",
    "\n",
    "def mytrapezoidal ________\n",
    "\n",
    "def mySimpson ________\n",
    "\n",
    "def myBode ________\n",
    "\n",
    "def h ________\n",
    "\n",
    "Ns = [8, 16, 32, 64, 128, 256, 512, 1024]\n",
    "\n",
    "err_tb = [abs(mytrapezoidal(h, N) - ________) for N in Ns]\n",
    "err_Sb = [abs(mySimpson(h, N)     - ________) for N in Ns]\n",
    "err_Bb = [abs(myBode(h, N)        - ________) for N in Ns]\n",
    "\n",
    "plt.loglog(Ns, err_t,  '+--', color='r', label='trapezoidal')\n",
    "plt.loglog(Ns, err_S,  'o-.', color='g', label='Simpson')\n",
    "plt.loglog(Ns, err_B,  'x:',  color='b', label='Bode')\n",
    "plt.loglog(Ns, err_tb, '+-',  color='r', label='my trapezoidal')\n",
    "plt.loglog(Ns, err_Sb, 'o-',  color='g', label='my Simpson')\n",
    "plt.loglog(Ns, err_Bb, 'x-',  color='b', label='my Bode')\n",
    "plt.xlabel('Number of sampling points')\n",
    "plt.ylabel('Absolute errors')\n",
    "plt.legend()"
   ]
  },
  {
   "cell_type": "markdown",
   "id": "a91ddd3c-0cfa-43f9-a1f9-19c990b2bab2",
   "metadata": {},
   "source": [
    "What is the convergent rate?  Is this expected?  Please write down your answers below.\n",
    "\n",
    "`ANS`: ..."
   ]
  }
 ],
 "metadata": {
  "kernelspec": {
   "display_name": "Python 3",
   "language": "python",
   "name": "python3"
  },
  "language_info": {
   "codemirror_mode": {
    "name": "ipython",
    "version": 3
   },
   "file_extension": ".py",
   "mimetype": "text/x-python",
   "name": "python",
   "nbconvert_exporter": "python",
   "pygments_lexer": "ipython3",
   "version": "3.10.2"
  }
 },
 "nbformat": 4,
 "nbformat_minor": 5
}
